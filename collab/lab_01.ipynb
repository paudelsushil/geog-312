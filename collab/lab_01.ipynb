{
  "cells": [
    {
      "cell_type": "markdown",
      "metadata": {
        "id": "view-in-github",
        "colab_type": "text"
      },
      "source": [
        "<a href=\"https://colab.research.google.com/github/paudelsushil/geog-312/blob/main/collab/lab_01.ipynb\" target=\"_parent\"><img src=\"https://colab.research.google.com/assets/colab-badge.svg\" alt=\"Open In Colab\"/></a>"
      ]
    },
    {
      "cell_type": "markdown",
      "id": "0",
      "metadata": {
        "id": "0"
      },
      "source": [
        "# Lab 1\n",
        "\n",
        "[![Open In Colab](https://colab.research.google.com/assets/colab-badge.svg)](https://colab.research.google.com/github/giswqs/geog-312/blob/main/book/labs/lab_01.ipynb)"
      ]
    },
    {
      "cell_type": "markdown",
      "id": "1",
      "metadata": {
        "id": "1"
      },
      "source": [
        "## Exercise 1: Variable Assignment and Basic Operations\n",
        "\n",
        "Create variables to store the following geospatial data:\n",
        "\n",
        "- The latitude and longitude of New York City: 40.7128, -74.0060.\n",
        "- The population of New York City: 8,336,817.\n",
        "- The area of New York City in square kilometers: 783.8.\n",
        "\n",
        "Perform the following tasks:\n",
        "\n",
        "1. Calculate and print the population density of New York City (population per square kilometer).\n",
        "2. Print the coordinates in the format \"Latitude: [latitude], Longitude: [longitude]\"."
      ]
    },
    {
      "cell_type": "code",
      "execution_count": null,
      "id": "2",
      "metadata": {
        "id": "2"
      },
      "outputs": [],
      "source": [
        "# New York City location coordinate\n",
        "latitude = 40.7128\n",
        "longitude = -74.0060\n",
        "\n",
        "# New York City Population\n",
        "NYC_Pop = 8336817\n",
        "\n",
        "# New York City Area in square kilometer\n",
        "NYC_AreaKm2 = 783.8\n",
        "\n",
        "# Calculate and Print the population density of NYC\n",
        "print(f\"Polpulation density of New York City is {(NYC_Pop/NYC_AreaKm2)//1} people per square kilometer.\")\n",
        "\n",
        "# Print the coordinates of NYC\n",
        "print(f\"Latitude: {latitude}, Longitude: {longitude}\")"
      ]
    },
    {
      "cell_type": "markdown",
      "id": "3",
      "metadata": {
        "id": "3"
      },
      "source": [
        "## Exercise 2: Working with Strings\n",
        "\n",
        "Create a string variable to store the name of a city, such as \"San Francisco\". Perform the following operations:\n",
        "\n",
        "1. Convert the string to lowercase and print the result.\n",
        "2. Convert the string to uppercase and print the result.\n",
        "3. Replace \"San\" with \"Los\" in the city name and print the new string."
      ]
    },
    {
      "cell_type": "code",
      "execution_count": null,
      "id": "4",
      "metadata": {
        "id": "4"
      },
      "outputs": [],
      "source": [
        "# Create a string variable to store the name of a city, such as \"San Francisco\".\n",
        "city = \"San Francisco\"\n",
        "\n",
        "# 1. Convert the string to lowercase and print the result.\n",
        "print(city.lower())\n",
        "\n",
        "# 2. Convert the string to uppercase and print the result.\n",
        "print(city.upper())\n",
        "\n",
        "# 3. Replace \"San\" with \"Los\" in the city name and print the new string.\n",
        "print(city.replace(\"San\", \"Los\"))"
      ]
    },
    {
      "cell_type": "markdown",
      "id": "5",
      "metadata": {
        "id": "5"
      },
      "source": [
        "## Exercise 3: Using Lists\n",
        "\n",
        "Create a list of tuples, where each tuple contains the name of a city and its corresponding latitude and longitude:\n",
        "\n",
        "- New York City: (40.7128, -74.0060)\n",
        "- Los Angeles: (34.0522, -118.2437)\n",
        "- Chicago: (41.8781, -87.6298)\n",
        "\n",
        "Perform the following tasks:\n",
        "\n",
        "1. Add a new city (e.g., Miami: (25.7617, -80.1918)) to the list.\n",
        "2. Print the entire list of cities.\n",
        "3. Slice the list to print only the first two cities."
      ]
    },
    {
      "cell_type": "code",
      "execution_count": null,
      "id": "63cc6273",
      "metadata": {
        "id": "63cc6273"
      },
      "outputs": [],
      "source": [
        "# Create a list of tuples, where each tuple contains the name of a city and its corresponding latitude and longitude:\n",
        "\n",
        "citiesCoord = [(\"New york City\", 40.7128, -74.0060),\n",
        "              (\"Los Angeles\", 34.0522, -118.2437),\n",
        "              (\"Chicago\", 41.8781, -87.6298)\n",
        "              ]\n",
        "\n",
        "\n",
        "\n",
        "# 1. Add a new city (e.g., Miami: (25.7617, -80.1918)) to the list.\n",
        "citiesCoord.append((\"Miami\", 25.7617, -80.1918))\n",
        "\n",
        "# 2. Print the entire list of cities.\n",
        "print(\"Updated cities list:\", citiesCoord)\n",
        "\n",
        "# 3. Slice the list to print only the first two cities.\n",
        "print(citiesCoord[:2])"
      ]
    },
    {
      "cell_type": "markdown",
      "id": "7",
      "metadata": {
        "id": "7"
      },
      "source": [
        "## Exercise 4: Using Tuples\n",
        "\n",
        "Create a tuple to store the coordinates (latitude, longitude) of the Eiffel Tower: (48.8584, 2.2945). Perform the following tasks:\n",
        "\n",
        "1. Access and print the latitude and longitude values from the tuple.\n",
        "2. Try to change the latitude value to 48.8585. What happens? Explain why."
      ]
    },
    {
      "cell_type": "code",
      "execution_count": null,
      "id": "8",
      "metadata": {
        "id": "8"
      },
      "outputs": [],
      "source": [
        "latLonEiffleTower = (48.8584, 2.2945)\n",
        "latEiffelTower, lonEiffelTower = latLonEiffleTower\n",
        "\n",
        "print(f\"latitude: {latEiffelTower}, longitude: {lonEiffelTower}\")\n",
        "\n",
        "# 2. Try to change the latitude value to 48.8585. What happens? Explain why.\n",
        "try:\n",
        "    latEiffelTower[0] =  48.8585\n",
        "except TypeError as er:\n",
        "    print(f\"It can not be updated because 'Tuples' are immutable, so we cannot change its values once it is created.\")\n"
      ]
    },
    {
      "cell_type": "markdown",
      "id": "9",
      "metadata": {
        "id": "9"
      },
      "source": [
        "## Exercise 5: Working with Sets\n",
        "\n",
        "Create a set of countries you have visited, such as {\"USA\", \"France\", \"Germany\"}. Perform the following tasks:\n",
        "\n",
        "1. Add a new country to the set.\n",
        "2. Try to add the same country again. What happens?\n",
        "3. Print the updated set."
      ]
    },
    {
      "cell_type": "code",
      "execution_count": null,
      "id": "10",
      "metadata": {
        "id": "10"
      },
      "outputs": [],
      "source": [
        "countries = set([\"USA\", \"France\", \"Germany\"])\n",
        "\n",
        "# 1. Add a new country to the set.\n",
        "countries.add(\"Nepal\")\n",
        "\n",
        "# 2. Try to add the same country again. What happens?\n",
        "countries.add(\"Nepal\")\n",
        "\n",
        "# 3. Print the updated set.\n",
        "print(\"Updated set of countries:\", countries) # This is because 'Set' do not allow duplicates."
      ]
    },
    {
      "cell_type": "markdown",
      "id": "11",
      "metadata": {
        "id": "11"
      },
      "source": [
        "## Exercise 6: Working with Dictionaries\n",
        "\n",
        "Create a dictionary to store information about a specific geospatial feature, such as a river:\n",
        "\n",
        "- Name: \"Amazon River\"\n",
        "- Length: 6400 km\n",
        "- Countries: [\"Brazil\", \"Peru\", \"Colombia\"]\n",
        "\n",
        "Perform the following tasks:\n",
        "\n",
        "1. Add a new key-value pair to the dictionary to store the river's average discharge (e.g., 209,000 m³/s).\n",
        "2. Update the length of the river to 6992 km.\n",
        "3. Print the dictionary."
      ]
    },
    {
      "cell_type": "code",
      "execution_count": null,
      "id": "12",
      "metadata": {
        "id": "12"
      },
      "outputs": [],
      "source": [
        "river = {\"Name\": \"Amazon River\",\n",
        "\"Length\": 6400,\n",
        "\"Countries\": [\"Brazil\", \"Peru\", \"Colombia\"]}\n",
        "\n",
        "print(river)\n",
        "# 1. Add a new key-value pair to the dictionary to store the river's average discharge (e.g., 209,000 m³/s).\n",
        "river[\"average_discharge\"] = 209000\n",
        "\n",
        "# 2. Update the length of the river to 6992 km.\n",
        "river[\"Length\"] = 6992\n",
        "\n",
        "# 3. Print the dictionary.\n",
        "print(\"Updated 'river' feature:\", river)"
      ]
    },
    {
      "cell_type": "markdown",
      "id": "13",
      "metadata": {
        "id": "13"
      },
      "source": [
        "## Exercise 7: Nested Data Structures\n",
        "\n",
        "Create a dictionary to represent a city that contains the city's name, population, and coordinates (latitude, longitude):\n",
        "\n",
        "- Name: \"Tokyo\"\n",
        "- Population: 13,515,271\n",
        "- Coordinates: (35.6895, 139.6917)\n",
        "\n",
        "Perform the following tasks:\n",
        "\n",
        "1. Access and print the population of the city.\n",
        "2. Access and print the city's latitude.\n",
        "3. Update the population to 14,000,000 and print the updated dictionary."
      ]
    },
    {
      "cell_type": "code",
      "execution_count": null,
      "id": "14",
      "metadata": {
        "id": "14"
      },
      "outputs": [],
      "source": [
        "# Create a dictionary to represent a city that contains the city's name, population, and coordinates (latitude, longitude):\n",
        "\n",
        "city = {\"Name\": \"Tokyo\",\n",
        "\"Population\": 13515271,\n",
        "\"Coordinates\": (35.6895, 139.6917)\n",
        "}\n",
        "\n",
        "# 1. Access and print the population of the city.\n",
        "print(city[\"Population\"])\n",
        "\n",
        "# 2. Access and print the city's latitude.\n",
        "print(city[\"Coordinates\"][0])\n",
        "\n",
        "# 3. Update the population to 14,000,000 and print the updated dictionary.\n",
        "city[\"Population\"] = 14000000\n",
        "\n",
        "print(f\"Updated dictionary: {city}\")\n"
      ]
    },
    {
      "cell_type": "markdown",
      "id": "15",
      "metadata": {
        "id": "15"
      },
      "source": [
        "## Exercise 8: List Operations\n",
        "\n",
        "Given the list of cities from Exercise 3, perform the following operations:\n",
        "\n",
        "1. Sort the list of cities alphabetically by name.\n",
        "2. Create a new list that contains only the city names.\n",
        "3. Remove the last city from the original list and print the updated list."
      ]
    },
    {
      "cell_type": "code",
      "execution_count": null,
      "id": "b9e93d61",
      "metadata": {
        "id": "b9e93d61"
      },
      "outputs": [],
      "source": [
        "citiesCoord.sort()\n",
        "print(\"Sorted citiesCoord by alphabet:\", citiesCoord)\n",
        "\n",
        "cityNames = [City[0] for City in citiesCoord]\n",
        "print(\"City names:\", cityNames)\n",
        "\n",
        "citiesCoord.pop()\n",
        "print(\"Updated cities list:\", citiesCoord)"
      ]
    },
    {
      "cell_type": "markdown",
      "id": "17",
      "metadata": {
        "id": "17"
      },
      "source": [
        "## Exercise 9: Dictionary Operations\n",
        "\n",
        "Using the dictionary from Exercise 6, perform the following tasks:\n",
        "\n",
        "1. Check if the key \"Length\" exists in the dictionary.\n",
        "2. Print all the keys in the dictionary.\n",
        "3. Print all the values in the dictionary."
      ]
    },
    {
      "cell_type": "code",
      "execution_count": null,
      "id": "18",
      "metadata": {
        "id": "18"
      },
      "outputs": [],
      "source": [
        "# 1. Check if the key \"Length\" exists in the dictionary.\n",
        "if \"Length\" in river.keys():\n",
        "    print(\"key 'Length' exists!\")\n",
        "else:\n",
        "    print(\"key 'Length' does not exists!\")\n",
        "\n",
        "# 2. Print all the keys in the dictionary.\n",
        "print(river.keys())\n",
        "\n",
        "# 3. Print all the values in the dictionary.\n",
        "print(river.values())"
      ]
    },
    {
      "cell_type": "markdown",
      "id": "19",
      "metadata": {
        "id": "19"
      },
      "source": [
        "## Exercise 10: Practical Application\n",
        "\n",
        "Imagine you have a list of tuples, each representing a location with its name, latitude, and longitude:"
      ]
    },
    {
      "cell_type": "code",
      "execution_count": null,
      "id": "20",
      "metadata": {
        "id": "20"
      },
      "outputs": [],
      "source": [
        "locations = [\n",
        "    (\"Mount Everest\", 27.9881, 86.9250),\n",
        "    (\"K2\", 35.8808, 76.5155),\n",
        "    (\"Kangchenjunga\", 27.7025, 88.1475),\n",
        "]"
      ]
    },
    {
      "cell_type": "markdown",
      "id": "21",
      "metadata": {
        "id": "21"
      },
      "source": [
        "Perform the following tasks:\n",
        "\n",
        "1. Create a new list that contains only the names of the locations.\n",
        "2. Create a dictionary where the keys are location names and the values are tuples of their coordinates.\n",
        "3. Print the latitude of \"K2\" using the dictionary."
      ]
    },
    {
      "cell_type": "code",
      "execution_count": null,
      "id": "22",
      "metadata": {
        "id": "22"
      },
      "outputs": [],
      "source": [
        "# 1. Create a new list that contains only the names of the locations.\n",
        "locationsNames = [location[0] for location in locations]\n",
        "\n",
        "# 2. Create a dictionary where the keys are location names and the values are tuples of their coordinates.\n",
        "locationsDict = {location[0]:(location[1], location[2]) for location in locations}\n",
        "\n",
        "# 3. Print the latitude of \"K2\" using the dictionary.\n",
        "print(\"'K2' Latitude is:\", locationsDict[\"K2\"][0])"
      ]
    }
  ],
  "metadata": {
    "kernelspec": {
      "display_name": "geog312",
      "language": "python",
      "name": "python3"
    },
    "language_info": {
      "codemirror_mode": {
        "name": "ipython",
        "version": 3
      },
      "file_extension": ".py",
      "mimetype": "text/x-python",
      "name": "python",
      "nbconvert_exporter": "python",
      "pygments_lexer": "ipython3",
      "version": "3.13.1"
    },
    "colab": {
      "provenance": [],
      "include_colab_link": true
    }
  },
  "nbformat": 4,
  "nbformat_minor": 5
}